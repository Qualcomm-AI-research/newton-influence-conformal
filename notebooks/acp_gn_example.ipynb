{
 "cells": [
  {
   "cell_type": "markdown",
   "id": "7057af37-4608-4415-b88a-a7829006907f",
   "metadata": {},
   "source": [
    "Copyright (c) 2025 Qualcomm Technologies, Inc.\n",
    "All Rights Reserved.\n",
    "\n",
    "# Minimal example on how to run ACP-GN (Approximate full Conformal Prediction via Gauss-Newton influence)\n",
    "\n",
    "The main scripts in this repository are geared towards reproducing the results in the paper, which requires a lot of overhead. In this notebook, we demonstrate how to run ACP-GN on regression tasks step by step and without that overhead."
   ]
  },
  {
   "cell_type": "code",
   "execution_count": 1,
   "outputs": [],
   "source": [
    "import matplotlib.pyplot as plt\n",
    "import numpy as np\n",
    "import torch\n",
    "import torch.utils.data as data_utils\n",
    "from torch.backends import cudnn\n",
    "\n",
    "# Local imports\n",
    "from lib.crr import eval_acp, eval_bayes, eval_crr, eval_jackknife\n",
    "from lib.datasets_uci import RegressionDatasets\n",
    "from lib.models import MLP\n",
    "from lib.trainer import train_laplace_model\n",
    "from lib.utils import to_numpy\n",
    "\n",
    "%matplotlib inline"
   ],
   "metadata": {
    "collapsed": false
   }
  },
  {
   "cell_type": "markdown",
   "id": "69ffbfa8-ea64-4613-b10a-058f2a971aa2",
   "metadata": {},
   "source": [
    "## Settings and Hyperparameters\n",
    "\n",
    "We start by setting the necessary settings and hyperparameters."
   ]
  },
  {
   "cell_type": "code",
   "execution_count": 2,
   "id": "dfbdfd42-8001-4c05-90f1-933c4a7eaa16",
   "metadata": {},
   "outputs": [
    {
     "name": "stdout",
     "output_type": "stream",
     "text": [
      "Running on cuda.\n"
     ]
    }
   ],
   "source": [
    "# Settings\n",
    "WIDTH = 50  # Number of hidden units in the layers of the neural regressor\n",
    "DEPTH = 1  # Number of layers of the neural regressor\n",
    "ACTIVATION = \"gelu\"  # Activation function of the neural regressor\n",
    "HYPERPARAM_OPT = \"marglik\"  # Type of hyperparameter optimization\n",
    "LR = 1e-2  # Learning rate\n",
    "LR_CV = 1e-3  # Learning rate when using cross-validation\n",
    "LR_MIN = 1e-5  # Minimum learning rate used by the scheduler\n",
    "N_EPOCHS = 5000  # Number of epochs to train the model for\n",
    "BATCH_SIZE = 256  # Batch size for training and evaluation\n",
    "PRIOR_PREC_INIT = 1.0  # Initial prior precision\n",
    "LR_HYP = 1e-2  # Learning rate used to update hyperparameters\n",
    "LR_HYP_MIN = 1e-3  # Minimum learning rate the scheduler can set to update hyperparameters\n",
    "N_EPOCHS_BURNIN = 100  # Number of epochs to train before estimating the marginal likelihood\n",
    "MARGLIK_FREQUENCY = 50  # How often to estimate (and differentiate) the marginal likelihood\n",
    "N_HYPERSTEPS = 50  # How many steps to take on the hyperparams when marginal likelihood is estimated\n",
    "N_EPOCHS_CV = 1000  # Number of epochs to train for when fitting hyperparams via cross-validation\n",
    "PRIOR_PREC_LOG_LOWER = -4  # Lowest value of log prior precision to consider.\n",
    "PRIOR_PREC_LOG_UPPER = 4  # Highest value of log prior precision to consider.\n",
    "CRR_ALGO = \"burnaev\"  # CRR implementation choice of \"nouretdinov\", \"vovk\", \"vovk_mod\", \"burnaev\"\n",
    "\n",
    "# Set device\n",
    "DEVICE = \"cuda\" if torch.cuda.is_available() else \"cpu\"\n",
    "print(f\"Running on {DEVICE}.\")\n",
    "# Set random seed\n",
    "SEED = 0\n",
    "np.random.seed(SEED)\n",
    "torch.manual_seed(SEED)\n",
    "if torch.cuda.is_available():\n",
    "    torch.cuda.manual_seed(SEED)\n",
    "    cudnn.deterministic = True\n",
    "    cudnn.benchmark = False"
   ]
  },
  {
   "cell_type": "markdown",
   "id": "873c9743-4e87-410a-968d-698758ed6662",
   "metadata": {},
   "source": [
    "## Preparing the dataset and data loaders\n",
    "We need four datasets.\n",
    "- Train: Only used if running cross-validation to find the prior precision matrix (HYPERPARAM_OPT='CV').\n",
    "- Validation: Also only used if running cross-validation (HYPERPARAM_OPT='CV').\n",
    "- Train full: Simply Train and Validation sets put together. Used to train the model and run full conformal prediction.\n",
    "- Test: Used only for testing."
   ]
  },
  {
   "cell_type": "code",
   "execution_count": 3,
   "id": "153d3a88-d21b-412e-8ec2-4e7201065c6b",
   "metadata": {},
   "outputs": [],
   "source": [
    "# Setting up the data\n",
    "DATASET = \"yacht\"\n",
    "\n",
    "# 90%/10% train/test split same as [Hernandez-Lobato & Adams, 2015]\n",
    "ds_kwargs = {\n",
    "    \"split_train_size\": 0.9,\n",
    "    \"split_valid_size\": 0.1,\n",
    "    \"split_calib_size\": 0,\n",
    "    \"root\": \"../data/\",\n",
    "    \"seed\": SEED,\n",
    "    \"kfold_idx\": -1,  # No k-fold\n",
    "    \"device\": DEVICE,\n",
    "}\n",
    "\n",
    "# Construct datasets\n",
    "# Training data split into training and validation datasets\n",
    "ds_train = RegressionDatasets(DATASET, split=\"train\", **ds_kwargs)\n",
    "# Validation data (only used for hyperparameter fine tuning inside Laplace's optimization)\n",
    "ds_valid = RegressionDatasets(DATASET, split=\"valid\", **ds_kwargs)\n",
    "# Full training dataset (same data as above, only not divided in two)\n",
    "ds_train_full = RegressionDatasets(\n",
    "    DATASET, split=\"train\", **{**ds_kwargs, **{\"split_valid_size\": 0.0}}\n",
    ")\n",
    "# Test data\n",
    "ds_test = RegressionDatasets(DATASET, split=\"test\", **ds_kwargs)\n",
    "\n",
    "# Construct dataloaders\n",
    "train_loader = data_utils.DataLoader(ds_train, batch_size=BATCH_SIZE, shuffle=True)\n",
    "train_loader_full = data_utils.DataLoader(ds_train_full, batch_size=BATCH_SIZE, shuffle=True)\n",
    "data_loader_jacs = data_utils.DataLoader(ds_train_full, batch_size=BATCH_SIZE, shuffle=False)\n",
    "calib_loader = None  # We don't need calibration data for full CP.\n",
    "valid_loader = data_utils.DataLoader(ds_valid, batch_size=BATCH_SIZE, shuffle=False)\n",
    "test_loader = data_utils.DataLoader(ds_test, batch_size=BATCH_SIZE, shuffle=False)"
   ]
  },
  {
   "cell_type": "markdown",
   "id": "0893c542-540b-4575-a86f-3ece36d9494b",
   "metadata": {},
   "source": [
    "# Model training\n",
    "\n",
    "Train the model and compute Laplace approximation. This leverages the Laplace package https://github.com/aleximmer/Laplace\n",
    "\n",
    "This will give us the model $\\theta^*$ that satisfies\n",
    "\n",
    "$\\theta_* = arg\\,min_{\\theta} \\Big( \\sum_{i=1}^N \\ell(y_i, f_i(x_i ;\\theta)) + \\tfrac{1}{2} \\delta \\left\\lVert \\theta \\right\\rVert ^2 \\Big)$\n",
    "\n",
    "with $\\ell$ a given loss function and $\\{x_i, y_i\\}^N$ is a training dataset of size $N$. The whole point of our method is to enable us to use the training data to pretrain the model in this way **and** run conformal prediction later on. Of course, this gives us only an approximation of the full conformal prediction method, but the approximation turns out to be quite reliable in most cases (see results in the paper)."
   ]
  },
  {
   "cell_type": "code",
   "execution_count": 4,
   "id": "3f159c2c-314d-4c5b-90d5-fb7760ae5db5",
   "metadata": {},
   "outputs": [],
   "source": [
    "# Define the model\n",
    "input_size = ds_train_full.data.size(1)\n",
    "model = MLP(input_size, WIDTH, DEPTH, output_size=1, activation=ACTIVATION).to(DEVICE)"
   ]
  },
  {
   "cell_type": "code",
   "execution_count": 5,
   "id": "b127a325-8119-4700-a338-248988499b31",
   "metadata": {},
   "outputs": [
    {
     "name": "stderr",
     "output_type": "stream",
     "text": [
      "/usr/local/lib/python3.10/dist-packages/torch/nn/modules/module.py:1830: FutureWarning: Using a non-full backward hook when the forward contains multiple autograd Nodes is deprecated and will be removed in future versions. This hook will be missing some grad_input. Please use register_full_backward_hook to get the documented behavior.\n",
      "  self._maybe_warn_non_full_backward_hook(args, result, grad_fn)\n"
     ]
    }
   ],
   "source": [
    "la, la_bayes = train_laplace_model(\n",
    "    HYPERPARAM_OPT,\n",
    "    model,\n",
    "    train_loader_full,\n",
    "    train_loader,\n",
    "    valid_loader,\n",
    "    N_EPOCHS,\n",
    "    N_EPOCHS_CV,\n",
    "    LR,\n",
    "    LR_CV,\n",
    "    LR_MIN,\n",
    "    LR_HYP,\n",
    "    LR_HYP_MIN,\n",
    "    N_EPOCHS_BURNIN,\n",
    "    N_HYPERSTEPS,\n",
    "    MARGLIK_FREQUENCY,\n",
    "    PRIOR_PREC_INIT,\n",
    "    PRIOR_PREC_LOG_LOWER,\n",
    "    PRIOR_PREC_LOG_UPPER,\n",
    ")"
   ]
  },
  {
   "cell_type": "markdown",
   "id": "d8af172a-3500-43a5-bffe-6635d39d282e",
   "metadata": {},
   "source": [
    "## ACP-GN without refinement\n",
    "\n",
    "Here we essentially compute the $a_i$ and $b_i$ terms for each training point, and $a_{N+1}$ and $b_{N+1}$ which corresponds to a given test point (see equations (13) and (14)).\n",
    "\n",
    "$y_i - f_i(\\theta_*^+(y)) \\approx \\underbrace{y_i - f_i(\\theta_*) + \\frac{\\hat{h}_{i,N+1}}{1+\\hat{h}_{N+1}} f_{N+1}(\\theta_*)}_{a_i} \\underbrace{- \\frac{\\hat{h}_{i,N+1}}{1+\\hat{h}_{N+1}}}_{b_i}$\n",
    "\n",
    "$y - f_{N+1}(\\theta_*^+(y)) \\approx \\underbrace{-\\frac{1}{1+\\hat{h}_{N+1}} f_{N+1}(\\theta_*)}_{a_{N+1}} + \\underbrace{\\frac{1}{1+\\hat{h}_{N+1}}}_{b_{N+1}} y$\n",
    "\n",
    "\n",
    "We start by computing  $a_{N+1}$ and $b_{N+1}$. For each test point, we collect the prediction of the model (`preds_test` or $f_{N+1}(\\theta_*)$), the leverages (`h_test` or $\\hat{h}_{N+1}$) and the Jacobians (`js_test`), which will later be used to compute $\\hat{h}_{i,N+1}$ (`h_test_train`)."
   ]
  },
  {
   "cell_type": "code",
   "execution_count": 6,
   "id": "0266e0a1-0ab4-46ea-bfcc-1b4aa1f3f09f",
   "metadata": {},
   "outputs": [],
   "source": [
    "# Evaluate quantities needed for CRR methods on the TEST data.\n",
    "preds_test = []  # Model predictions\n",
    "js_test = []  # Jacobians\n",
    "h_test = []  # Leverages\n",
    "for batch_x, batch_y in test_loader:\n",
    "    # Evaluate \"leverage\" and predictions on test points\n",
    "    js_batch, preds_batch = la.backend.jacobians(batch_x)\n",
    "    preds_batch = preds_batch.squeeze()\n",
    "    fvar = la.functional_variance(js_batch).squeeze()\n",
    "    _, n_outs, n_params = js_batch.shape\n",
    "    # and cache Jacs to compute cross-leverages later\n",
    "    js_batch = js_batch.reshape(len(batch_x) * n_outs, n_params)\n",
    "    preds_test.append(preds_batch)\n",
    "    js_test.append(js_batch)\n",
    "    h_test.append(fvar)\n",
    "# Construct torch tensors\n",
    "preds_test = torch.cat(preds_test)\n",
    "js_test = torch.cat(js_test)\n",
    "h_test = torch.cat(h_test)"
   ]
  },
  {
   "cell_type": "markdown",
   "id": "1eb7ab09-8e87-4fd2-87bf-37cab65a6937",
   "metadata": {},
   "source": [
    "We now do the same for each training point to compute $a_i$ and $b_i$. That is, for each training point we compute the prediction of the model (`preds_train` or $f_i(\\theta_*)$) and the leverage (`h_test_train` or $\\hat{h}_{i,N+1}$)."
   ]
  },
  {
   "cell_type": "code",
   "execution_count": 7,
   "id": "d042ad11-4f4e-462f-a393-d87282050d97",
   "metadata": {},
   "outputs": [],
   "source": [
    "# Evaluate quantities needed for CRR methods on the TRAIN data.\n",
    "preds_train = []  # Model predictions\n",
    "js_train = []  # Jacobians\n",
    "h_train = []  # Leverages on the training data\n",
    "h_test_train = []  # Leverages on training and test data\n",
    "for batch_x, batch_y in data_loader_jacs:\n",
    "    # Leverage and predictions on train data\n",
    "    js_batch, preds_batch = la.backend.jacobians(batch_x)\n",
    "    preds_batch = preds_batch.squeeze()\n",
    "    fvar = la.functional_variance(js_batch).squeeze()\n",
    "    _, n_outs, n_params = js_batch.shape\n",
    "    js_batch = js_batch.reshape(len(batch_x) * n_outs, n_params)\n",
    "    js_train.append(js_batch)\n",
    "    fvar_cross = torch.einsum(\n",
    "        \"mp,pq,nq->mn\", js_test, la.posterior_covariance, js_batch\n",
    "    )  # (M, batch_size)\n",
    "    preds_train.append(preds_batch)\n",
    "    h_train.append(fvar)\n",
    "    h_test_train.append(fvar_cross)\n",
    "preds_train = torch.cat(preds_train)\n",
    "js_train = torch.cat(js_train)\n",
    "h_train = torch.cat(h_train)\n",
    "h_test_train = torch.cat(h_test_train, dim=-1)\n",
    "targets_train = ds_train_full.targets"
   ]
  },
  {
   "cell_type": "markdown",
   "id": "df5c8898-419b-41d1-ae62-0de736699a81",
   "metadata": {},
   "source": [
    "### Applying Conformal Ridge Regression (CRR)\n",
    "Once these terms $a_i, b_i$ and $a_{N+1}, b_{N+1}$ are computed, we can apply any conformal ridge regression algorithm to get the prediction intervals.\n",
    "\n",
    "Here we compare four methods in particular. See the paper for the details on each variant.\n",
    "- Bayes (confidence intervals given by the approximate Bayes posterior predictive distribution)\n",
    "- Standard CRR\n",
    "- Studentized CRR\n",
    "- Deleted CRR\n",
    "\n",
    "Note that in the paper, unless explicitly mentioned otherwise, we report results of Studentized CRR, as we found this to work best among the CRR variants."
   ]
  },
  {
   "cell_type": "code",
   "execution_count": 8,
   "id": "c254e669-df40-4db1-9382-5a5e69a7b5bb",
   "metadata": {},
   "outputs": [],
   "source": [
    "# Significance levels (alpha)\n",
    "sig_lvls = [0.01, 0.05, 0.1]\n",
    "intvl_kwargs = {\n",
    "    \"ys\": to_numpy(targets_train.squeeze()),\n",
    "    \"preds\": to_numpy(preds_train.squeeze()),\n",
    "    \"preds_eval\": to_numpy(preds_test.squeeze()),\n",
    "    \"h_mn\": to_numpy(h_test_train.squeeze()),\n",
    "    \"h_n\": to_numpy(h_train.squeeze()),\n",
    "    \"sigma_sq\": la.sigma_noise.item() ** 2,\n",
    "    \"sig_lvls\": sig_lvls,\n",
    "}\n",
    "cp_intervals = []\n",
    "for method in [\"bayes\", \"crr_standard\", \"crr_studentized\", \"crr_deleted\"]:\n",
    "    method_parse = method.split(\"_\")\n",
    "    if method == \"bayes\":\n",
    "        # Only use refined predictions for bayes when fitted using marglik.\n",
    "        # Observed poor performance otherwise, hunch that caused by MLE fit of sigma_noise.\n",
    "        fmu = to_numpy(preds_test.squeeze())\n",
    "        cp_intervals += [\n",
    "            eval_bayes(\n",
    "                fmu=fmu,\n",
    "                fvar=to_numpy(h_test.squeeze()),\n",
    "                sigma_sq=la_bayes.sigma_noise.item() ** 2,\n",
    "                sig_lvls=sig_lvls,\n",
    "            )\n",
    "        ]\n",
    "    elif method_parse[0] == \"crr\":\n",
    "        cp_intervals += [\n",
    "            eval_crr(\n",
    "                h_m=to_numpy(h_test.squeeze()),\n",
    "                algo=CRR_ALGO,\n",
    "                nonconformity_score=method_parse[1],\n",
    "                **intvl_kwargs,\n",
    "            )\n",
    "        ]\n",
    "    elif method_parse[0] == \"jackknife\":\n",
    "        cp_intervals += [eval_jackknife(method=method_parse[1], **intvl_kwargs)]\n",
    "    elif method == \"acp\":\n",
    "        cp_intervals += [eval_acp(h_m=to_numpy(h_test.squeeze()), **intvl_kwargs)]\n",
    "    else:\n",
    "        raise ValueError(\"Invalid method\")"
   ]
  },
  {
   "cell_type": "markdown",
   "id": "82e7b792-7776-4ea3-b87e-3f4f97314f91",
   "metadata": {},
   "source": [
    "### Correcting for normalization during pre-processing of the dataset\n",
    "As usual for regression tasks, we normalize the data before fitting the neural network. Thus, we must rescale the prediction intervals to match the original output space of the model."
   ]
  },
  {
   "cell_type": "code",
   "execution_count": 9,
   "id": "d0f535a1-bb88-42f2-904b-568e8b077274",
   "metadata": {},
   "outputs": [],
   "source": [
    "# Scaling used to preprocess the data (see RegressionDatasets in datasets_uci.py)\n",
    "scale = ds_train_full.s\n",
    "cp_intervals = np.array(cp_intervals)  # (n_methods, len(sig_lvls), n_test, 2)\n",
    "# Mean PI width adjusted by targets standardization from data-preprocessing step.\n",
    "interval_widths_avg = np.mean(\n",
    "    scale * (cp_intervals[:, :, :, 1] - cp_intervals[:, :, :, 0]), axis=-1\n",
    ")  # (n_methods, len(sig_lvls))\n",
    "\n",
    "# Coverage.\n",
    "y_test_np = ds_test.targets.squeeze().cpu().numpy()\n",
    "y_test_np = y_test_np.reshape((1, 1, -1))\n",
    "coverage = np.mean(\n",
    "    (y_test_np >= cp_intervals[:, :, :, 0]) & (y_test_np <= cp_intervals[:, :, :, 1]),\n",
    "    axis=-1,\n",
    ")"
   ]
  },
  {
   "cell_type": "markdown",
   "id": "491b7ff6-cc8f-4a32-ac70-9d21b991839e",
   "metadata": {},
   "source": [
    "### Plotting the results"
   ]
  },
  {
   "cell_type": "code",
   "execution_count": 10,
   "id": "9cd6beed-efee-4643-b1f6-e403083b56e6",
   "metadata": {},
   "outputs": [
    {
     "data": {
      "text/plain": [
       "Text(0.5, 1.0, 'Observed Coverage')"
      ]
     },
     "execution_count": 10,
     "metadata": {},
     "output_type": "execute_result"
    },
    {
     "data": {
      "image/png": "[encoded data removed]",
      "text/plain": [
       "<Figure size 640x480 with 1 Axes>"
      ]
     },
     "metadata": {},
     "output_type": "display_data"
    }
   ],
   "source": [
    "for i, method in enumerate([\"bayes\", \"crr_standard\", \"crr_studentized\", \"crr_deleted\"]):\n",
    "    plt.plot(sig_lvls, coverage[i, ...], \"o\", label=method)\n",
    "plt.plot(sig_lvls, 1 - np.asarray(sig_lvls), \"o\", label=\"desired coverage\")\n",
    "plt.legend()\n",
    "plt.grid()\n",
    "plt.xticks(np.asarray(sig_lvls))\n",
    "plt.xlabel(\"Significance Level (alpha)\")\n",
    "plt.ylabel(\"Coverage\")\n",
    "plt.title(\"Observed Coverage\")"
   ]
  },
  {
   "cell_type": "code",
   "execution_count": 11,
   "id": "f37e7746-7ec9-4711-a84a-5ce510f695bf",
   "metadata": {},
   "outputs": [
    {
     "data": {
      "text/plain": [
       "Text(0.5, 1.0, 'Average Prediction Set Size')"
      ]
     },
     "execution_count": 11,
     "metadata": {},
     "output_type": "execute_result"
    },
    {
     "data": {
      "image/png": "[encoded data removed]",
      "text/plain": [
       "<Figure size 640x480 with 1 Axes>"
      ]
     },
     "metadata": {},
     "output_type": "display_data"
    }
   ],
   "source": [
    "for i, method in enumerate([\"bayes\", \"crr_standard\", \"crr_studentized\", \"crr_deleted\"]):\n",
    "    plt.plot(sig_lvls, interval_widths_avg[i, ...], \"o\", label=method)\n",
    "plt.legend()\n",
    "plt.grid()\n",
    "plt.xticks(np.asarray(sig_lvls))\n",
    "plt.xlabel(\"Significance Level (alpha)\")\n",
    "plt.ylabel(\"Interval Length\")\n",
    "plt.title(\"Average Prediction Set Size\")"
   ]
  },
  {
   "cell_type": "code",
   "execution_count": null,
   "id": "4a89d993-a568-4f10-9895-22569bf4819e",
   "metadata": {},
   "outputs": [],
   "source": []
  }
 ],
 "metadata": {
  "kernelspec": {
   "display_name": "Python 3 (ipykernel)",
   "language": "python",
   "name": "python3"
  },
  "language_info": {
   "codemirror_mode": {
    "name": "ipython",
    "version": 3
   },
   "file_extension": ".py",
   "mimetype": "text/x-python",
   "name": "python",
   "nbconvert_exporter": "python",
   "pygments_lexer": "ipython3",
   "version": "3.9.6"
  }
 },
 "nbformat": 4,
 "nbformat_minor": 5
}
